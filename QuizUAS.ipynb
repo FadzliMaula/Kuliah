{
  "nbformat": 4,
  "nbformat_minor": 0,
  "metadata": {
    "colab": {
      "name": "Untitled6.ipynb",
      "provenance": [],
      "authorship_tag": "ABX9TyMIEa2KoClU/r6XWlzWEpky",
      "include_colab_link": true
    },
    "kernelspec": {
      "name": "python3",
      "display_name": "Python 3"
    },
    "language_info": {
      "name": "python"
    }
  },
  "cells": [
    {
      "cell_type": "markdown",
      "metadata": {
        "id": "view-in-github",
        "colab_type": "text"
      },
      "source": [
        "<a href=\"https://colab.research.google.com/github/FadzliMaula/Kuliah/blob/main/QuizUAS.ipynb\" target=\"_parent\"><img src=\"https://colab.research.google.com/assets/colab-badge.svg\" alt=\"Open In Colab\"/></a>"
      ]
    },
    {
      "cell_type": "markdown",
      "source": [
        "NO. 1"
      ],
      "metadata": {
        "id": "AjoyXA_LFFvE"
      }
    },
    {
      "cell_type": "code",
      "execution_count": 6,
      "metadata": {
        "colab": {
          "base_uri": "https://localhost:8080/"
        },
        "id": "74B9n16u6pE4",
        "outputId": "7d32fdad-c7a1-4964-a154-599239352cd1"
      },
      "outputs": [
        {
          "output_type": "execute_result",
          "data": {
            "text/plain": [
              "32966.99999999999"
            ]
          },
          "metadata": {},
          "execution_count": 6
        }
      ],
      "source": [
        "import numpy as np\n",
        "import matplotlib.pyplot as plt\n",
        "%matplotlib inline\n",
        "\n",
        "def derivative(a, method= 'central', h = 0.1):\n",
        "  if method == 'central':\n",
        "        return ((a + h) - (a - h))/(2*h)\n",
        "  elif method == 'forward':\n",
        "        return ((a + h) - (a))/h\n",
        "  elif method == 'backward':\n",
        "        return ((a) - (a - h))/h\n",
        "  else:\n",
        "        raise ValueError(\"Method need to be either 'central', 'forward' or 'backward'.\")\n",
        "\n",
        "#F\"\"(0.1)\n",
        "x = [0.1, 0.2, 0.3, 0.4, 0.5, 0.6]\n",
        "y = [0.09327, 0.08435, 0.07591, 0.06894, 0.05971, 0.04362]\n",
        "\n",
        "n = len(x)\n",
        "h = 0.1\n",
        "\n",
        "def secondNoncentral(y, h):\n",
        "  result = ((3 * y[0]) + (-14 * y[1]) + (26 * y[2]) + (24 * y[3]) + (11 * y[4]) + (-2 * y[5])) / (h * h * h * h)\n",
        "  return result\n",
        "\n",
        "f = derivative(a = 1, method = 'forward', h = h)\n",
        "f = secondNoncentral(y, h)\n",
        "f"
      ]
    },
    {
      "cell_type": "code",
      "source": [
        "#F\"\"(0.5)\n",
        "x = [0.1, 0.2, 0.3, 0.4, 0.5, 0.6]\n",
        "y = [0.09327, 0.08435, 0.07591, 0.06894, 0.05971, 0.04362]\n",
        "\n",
        "n = len(x)\n",
        "h = 0.1\n",
        "\n",
        "def secondNoncentral(y, h):\n",
        "  result = ((-3 * y[4]) + (-14 * y[3]) + (-24 * y[2]) + (-18 * y[1]) + (-5 * y[0]))/ (2 * (h * h * h))\n",
        "  return result\n",
        "\n",
        "f = derivative(a = 1, method = 'backward', h = h)\n",
        "f = secondNoncentral(y, h)\n",
        "f"
      ],
      "metadata": {
        "colab": {
          "base_uri": "https://localhost:8080/"
        },
        "id": "sjcPZjZG-oHb",
        "outputId": "a7dee08b-5a4a-47c2-e45f-1ff72b7bbeb4"
      },
      "execution_count": 7,
      "outputs": [
        {
          "output_type": "execute_result",
          "data": {
            "text/plain": [
              "-2475.3899999999994"
            ]
          },
          "metadata": {},
          "execution_count": 7
        }
      ]
    },
    {
      "cell_type": "markdown",
      "source": [
        "NO. 2"
      ],
      "metadata": {
        "id": "ufCrx6WhFJN4"
      }
    },
    {
      "cell_type": "code",
      "source": [
        "import math\n",
        "x = 0\n",
        "y = 2\n",
        "y_0order = 2\n",
        "y_1order = (2*pow(x,2))-8*y\n",
        "y_2order = 4*x - 16*pow(x,2) + 64*y\n",
        "y_3order = 4 - 32*x + 64*(2*pow(x,2) - 8*y)\n",
        "y_4order = -32 + 256*pow(x,2) - 512*(2*pow(x,2) - 8*y)\n",
        "\n",
        "y_deriv = [y_0order, y_1order, y_2order, y_3order, y_4order]\n",
        "h = 0.2\n",
        "\n",
        "def taylor_series4() :\n",
        "  taylor = 0\n",
        "  for i in range(5):\n",
        "    taylor += (y_deriv[i]*pow(h,i))/math.factorial(i)\n",
        "  return taylor\n",
        "\n",
        "print(f\"Taylor Series Approximation : {taylor_series4()}\\n\")\n",
        "\n",
        "#Error Comparison\n",
        "analytic_err = (31/32)*math.exp(-4*h) + 0.25*pow(h,2) - 0.125*h + 0.03125\n",
        "abs_error = analytic_err - taylor_series4()\n",
        "\n",
        "#Truncation Error\n",
        "a = -32 + 256*pow(h,2) - 512*(2*pow(h,2) - 8*taylor_series4())\n",
        "b = y_4order\n",
        "trunc_err = (pow(h,4)/math.factorial(5))*(a-b)\n",
        "\n",
        "print(f\"Truncation Error : {trunc_err}\\n\")\n",
        "print(f\"Analytic Error : {analytic_err}\\n\")\n",
        "print(f\"True Error : {abs_error}\")"
      ],
      "metadata": {
        "colab": {
          "base_uri": "https://localhost:8080/"
        },
        "id": "lBywIvUIFNE4",
        "outputId": "ca934eb7-a0d9-4e74-bfba-ce1ec2de9696"
      },
      "execution_count": 13,
      "outputs": [
        {
          "output_type": "stream",
          "name": "stdout",
          "text": [
            "Taylor Series Approximation : 0.5440000000000002\n",
            "\n",
            "Truncation Error : -0.07992661333333333\n",
            "\n",
            "Analytic Error : 0.4515374339885584\n",
            "\n",
            "True Error : -0.09246256601144176\n"
          ]
        }
      ]
    }
  ]
}