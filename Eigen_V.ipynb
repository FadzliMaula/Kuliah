{
  "nbformat": 4,
  "nbformat_minor": 0,
  "metadata": {
    "colab": {
      "name": "Eigen-V.ipynb",
      "provenance": [],
      "authorship_tag": "ABX9TyPnxKf9drdNvusD/0LQh1/F",
      "include_colab_link": true
    },
    "kernelspec": {
      "name": "python3",
      "display_name": "Python 3"
    },
    "language_info": {
      "name": "python"
    }
  },
  "cells": [
    {
      "cell_type": "markdown",
      "metadata": {
        "id": "view-in-github",
        "colab_type": "text"
      },
      "source": [
        "<a href=\"https://colab.research.google.com/github/FadzliMaula/Kuliah/blob/main/Eigen_V.ipynb\" target=\"_parent\"><img src=\"https://colab.research.google.com/assets/colab-badge.svg\" alt=\"Open In Colab\"/></a>"
      ]
    },
    {
      "cell_type": "code",
      "execution_count": 3,
      "metadata": {
        "colab": {
          "base_uri": "https://localhost:8080/"
        },
        "id": "1KnoGtlVspqZ",
        "outputId": "4652326a-c347-4802-f9cf-7f3ceb1ff4cf"
      },
      "outputs": [
        {
          "output_type": "stream",
          "name": "stdout",
          "text": [
            "eigenvalue: 3.999949137887188\n",
            "eigenvector: [0.50000636 1.        ]\n"
          ]
        }
      ],
      "source": [
        "import numpy as np\n",
        "def normalize(x):\n",
        "  fac = abs(x).max()\n",
        "  x_n = x / x.max()\n",
        "  return fac, x_n\n",
        "x = np.array([1,1])\n",
        "a = np.array([[0,2],\n",
        "              [2,3]])\n",
        "\n",
        "for i in range(8):\n",
        "  x = np.dot(a, x)\n",
        "  lambda_1, x = normalize(x)\n",
        "\n",
        "print('eigenvalue:',lambda_1)\n",
        "print('eigenvector:',x)"
      ]
    },
    {
      "cell_type": "code",
      "source": [
        "from numpy.linalg import inv\n",
        "a_inv = inv(a)\n",
        "for i in range (8):\n",
        "  x = np.dot(a_inv, x)\n",
        "  lambda_1, x = normalize(x)\n",
        "\n",
        "print('eigenvalue:',lambda_1)\n",
        "print('eigenvector:',x)"
      ],
      "metadata": {
        "colab": {
          "base_uri": "https://localhost:8080/"
        },
        "id": "zMEuBw_OtiZE",
        "outputId": "51632029-70f4-43bd-de1c-c20bb8172556"
      },
      "execution_count": 7,
      "outputs": [
        {
          "output_type": "stream",
          "name": "stdout",
          "text": [
            "eigenvalue: 0.20000000000003912\n",
            "eigenvector: [1. 1.]\n"
          ]
        }
      ]
    },
    {
      "cell_type": "code",
      "source": [
        "import numpy as np\n",
        "from numpy.linalg import eig\n",
        "a = np.array([[0,2],\n",
        "              [2,3]])\n",
        "w,v=eig(a)\n",
        "print('E-value:',w)\n",
        "print('E-vector:',v)"
      ],
      "metadata": {
        "colab": {
          "base_uri": "https://localhost:8080/"
        },
        "id": "-DvzYd9MuWp5",
        "outputId": "30d8f373-df91-47d3-e48c-1c31f24e6812"
      },
      "execution_count": 8,
      "outputs": [
        {
          "output_type": "stream",
          "name": "stdout",
          "text": [
            "E-value: [-1.  4.]\n",
            "E-vector: [[-0.89442719 -0.4472136 ]\n",
            " [ 0.4472136  -0.89442719]]\n"
          ]
        }
      ]
    },
    {
      "cell_type": "code",
      "source": [
        "import numpy as np\n",
        "from numpy.linalg import eig\n",
        "a = np.array([[2,2,4],\n",
        "              [1,3,5],\n",
        "              [2,3,4]])\n",
        "w,v=eig(a)\n",
        "print('E-value:',w)\n",
        "print('E-vector:',v)"
      ],
      "metadata": {
        "colab": {
          "base_uri": "https://localhost:8080/"
        },
        "id": "gaWjsmwKuwqd",
        "outputId": "8712b794-7f45-40c7-9546-6a8d513f4cba"
      },
      "execution_count": 9,
      "outputs": [
        {
          "output_type": "stream",
          "name": "stdout",
          "text": [
            "E-value: [ 8.80916362  0.92620912 -0.73537273]\n",
            "E-vector: [[-0.52799324 -0.77557092 -0.36272811]\n",
            " [-0.604391    0.62277013 -0.7103262 ]\n",
            " [-0.59660259 -0.10318482  0.60321224]]\n"
          ]
        }
      ]
    }
  ]
}