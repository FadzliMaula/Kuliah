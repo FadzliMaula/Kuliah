{
  "nbformat": 4,
  "nbformat_minor": 0,
  "metadata": {
    "colab": {
      "name": "Untitled4.ipynb",
      "provenance": [],
      "authorship_tag": "ABX9TyO0+GBTyWEkCiEVuE91CplI",
      "include_colab_link": true
    },
    "kernelspec": {
      "name": "python3",
      "display_name": "Python 3"
    },
    "language_info": {
      "name": "python"
    }
  },
  "cells": [
    {
      "cell_type": "markdown",
      "metadata": {
        "id": "view-in-github",
        "colab_type": "text"
      },
      "source": [
        "<a href=\"https://colab.research.google.com/github/FadzliMaula/Kuliah/blob/main/Sesi%204%20Bisection.ipynb\" target=\"_parent\"><img src=\"https://colab.research.google.com/assets/colab-badge.svg\" alt=\"Open In Colab\"/></a>"
      ]
    },
    {
      "cell_type": "code",
      "execution_count": 9,
      "metadata": {
        "id": "Bo6jYVHZgbgu"
      },
      "outputs": [],
      "source": [
        "import numpy as np\n",
        "\n",
        "def my_bisection(f, a, b, tol):\n",
        "  if np.sign(f(a)) == np.sign(f(b)) :\n",
        "    raise Exception(\"Scalars a and b do not bound a root\")\n",
        "\n",
        "  m = (a+b)/2\n",
        "\n",
        "  if np.abs(f(m)) < tol :\n",
        "    return m\n",
        "  elif np.sign(f(a)) == np.sign(f(m)):\n",
        "    return my_bisection(f, m, b, tol)\n",
        "  elif np.sign(f(b)) == np.sign(f(m)):\n",
        "    return my_bisection(f, a, m, tol)\n"
      ]
    },
    {
      "cell_type": "code",
      "source": [
        "f = lambda x: x**2 - 2\n",
        "\n",
        "r1 = my_bisection(f, 0, 2, 0.1) \n",
        "print(\"r1 =\",r1) \n",
        "r01 = my_bisection(f, 0, 2, 0.01) \n",
        "print(\"r01 =\",r01)\n",
        "\n",
        "print(\"f(r1) =\",f(r1)) \n",
        "print(\"f(r01) =\",f(r01))"
      ],
      "metadata": {
        "colab": {
          "base_uri": "https://localhost:8080/"
        },
        "id": "uR6l52Lq5hCR",
        "outputId": "fdad24c6-e04c-4428-a6e0-fc02e7743490"
      },
      "execution_count": 13,
      "outputs": [
        {
          "output_type": "stream",
          "name": "stdout",
          "text": [
            "r1 = 1.4375\n",
            "r01 = 1.4140625\n",
            "f(r1) = 0.06640625\n",
            "f(r01) = -0.00042724609375\n"
          ]
        }
      ]
    },
    {
      "cell_type": "markdown",
      "source": [
        "Coba a=2 b=4"
      ],
      "metadata": {
        "id": "gF9QsZG_5iZF"
      }
    },
    {
      "cell_type": "code",
      "source": [
        "f = lambda x: x**2 - 2\n",
        "\n",
        "r1 = my_bisection(f, 2, 4, 0.1) \n",
        "print(\"r1 =\",r1) \n",
        "r01 = my_bisection(f, 2, 4, 0.01) \n",
        "print(\"r01 =\",r01)\n",
        "\n",
        "print(\"f(r1) =\",f(r1)) print(\"f(r01) =\",f(r01))"
      ],
      "metadata": {
        "id": "Vi1dWFTe5G_T"
      },
      "execution_count": null,
      "outputs": []
    }
  ]
}