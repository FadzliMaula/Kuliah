{
  "nbformat": 4,
  "nbformat_minor": 0,
  "metadata": {
    "colab": {
      "name": "Untitled3.ipynb",
      "provenance": [],
      "authorship_tag": "ABX9TyNTV6R1rlKH04PGQauYcYf+",
      "include_colab_link": true
    },
    "kernelspec": {
      "name": "python3",
      "display_name": "Python 3"
    },
    "language_info": {
      "name": "python"
    }
  },
  "cells": [
    {
      "cell_type": "markdown",
      "metadata": {
        "id": "view-in-github",
        "colab_type": "text"
      },
      "source": [
        "<a href=\"https://colab.research.google.com/github/FadzliMaula/Kuliah/blob/main/QuizLab.ipynb\" target=\"_parent\"><img src=\"https://colab.research.google.com/assets/colab-badge.svg\" alt=\"Open In Colab\"/></a>"
      ]
    },
    {
      "cell_type": "markdown",
      "source": [
        "MUHAMMAD FADZLI MAULA\n",
        "2502009860"
      ],
      "metadata": {
        "id": "4qOX7iDMTDe1"
      }
    },
    {
      "cell_type": "markdown",
      "source": [
        "NO. 1"
      ],
      "metadata": {
        "id": "HyWJr1fiTHlv"
      }
    },
    {
      "cell_type": "code",
      "execution_count": 3,
      "metadata": {
        "colab": {
          "base_uri": "https://localhost:8080/"
        },
        "id": "Hm0rHjeDTCTE",
        "outputId": "d0fa20f6-2847-48a4-e049-7d8df9b1bcd8"
      },
      "outputs": [
        {
          "output_type": "stream",
          "name": "stdout",
          "text": [
            "Nilai f(x) di x = 0.58 adalah 0.19\n"
          ]
        }
      ],
      "source": [
        "def hasil(i, value, x): \n",
        "    term = 1; \n",
        "    for j in range(i): \n",
        "        term = term * (value - x[j]); \n",
        "    return term; \n",
        "\n",
        "def newton(x, y, n):\n",
        "\tfor i in range(1, n):\n",
        "\t\tfor j in range(n - i):\n",
        "\t\t\ty[j][i] = ((y[j][i - 1] - y[j + 1][i - 1]) /\n",
        "\t\t\t\t\t\t\t\t\t(x[j] - x[i + j]));\n",
        "\treturn y;\n",
        "\n",
        "def rumus(value, x, y, n):\n",
        "\tsum = y[0][0];\n",
        "\tfor i in range(1, n):\n",
        "\t\tsum = sum + (hasil(i, value, x) * y[0][i]);\n",
        "\treturn sum;\n",
        "\n",
        "n = 7;\n",
        "x = [0.1, 0.3, 0.5, 0.7, 0.9, 1.1, 1.3];\n",
        "y = [[0 for i in range(7)]\n",
        "\t\tfor j in range(7)];\n",
        "\n",
        "y[0][0] = 0.003;\n",
        "y[1][0] = 0.067;\n",
        "y[2][0] = 0.148;\n",
        "y[3][0] = 0.248;\n",
        "y[4][0] = 0.370;\n",
        "y[5][0] = 0.518;\n",
        "y[6][0] = 0.697;\n",
        "\n",
        "y = newton(x, y, n);\n",
        "value = 0.58;\n",
        "\n",
        "print(\"Nilai f(x) di x = 0.58 adalah\", round(rumus(value, x, y, n), 2))"
      ]
    },
    {
      "cell_type": "markdown",
      "source": [
        "NO. 2"
      ],
      "metadata": {
        "id": "Uq9UU_hvTWKx"
      }
    },
    {
      "cell_type": "code",
      "source": [
        "import numpy as np\n",
        "\n",
        "x = np.array([0.1, 0.3, 0.5, 0.7, 0.9, 1.1, 1.3]).reshape((-1, 1))\n",
        "y = np.array([0.003, 0.067, 0.148, 0.248, 0.370, 0.518, 0.697])\n",
        "\n",
        "print(x)\n",
        "print(y)"
      ],
      "metadata": {
        "colab": {
          "base_uri": "https://localhost:8080/"
        },
        "id": "79HKlK-8TLis",
        "outputId": "61d7c6c4-34ff-4505-a946-a6e226c2e7d5"
      },
      "execution_count": 4,
      "outputs": [
        {
          "output_type": "stream",
          "name": "stdout",
          "text": [
            "[[0.1]\n",
            " [0.3]\n",
            " [0.5]\n",
            " [0.7]\n",
            " [0.9]\n",
            " [1.1]\n",
            " [1.3]]\n",
            "[0.003 0.067 0.148 0.248 0.37  0.518 0.697]\n"
          ]
        }
      ]
    },
    {
      "cell_type": "markdown",
      "source": [
        "NO. 3"
      ],
      "metadata": {
        "id": "cfqPatTPTc7N"
      }
    },
    {
      "cell_type": "code",
      "source": [
        "import numpy as np\n",
        "import matplotlib.pyplot as plt\n",
        "\n",
        "x = [0.1, 0.3, 0.5, 0.7, 0.9, 1.1, 1.3]\n",
        "y = [0.003, 0.067, 0.148, 0.248, 0.370, 0.518, 0.697]\n",
        "plt.plot(x, y)\n",
        "plt.show()"
      ],
      "metadata": {
        "colab": {
          "base_uri": "https://localhost:8080/",
          "height": 265
        },
        "id": "TfxcULMYTegl",
        "outputId": "3418399e-0ae0-4a47-db15-eb31d56dde3b"
      },
      "execution_count": 5,
      "outputs": [
        {
          "output_type": "display_data",
          "data": {
            "text/plain": [
              "<Figure size 432x288 with 1 Axes>"
            ],
            "image/png": "[encoded data removed]"
          },
          "metadata": {
            "needs_background": "light"
          }
        }
      ]
    }
  ]
}