{
  "nbformat": 4,
  "nbformat_minor": 0,
  "metadata": {
    "colab": {
      "name": "Untitled0.ipynb",
      "provenance": [],
      "collapsed_sections": [],
      "authorship_tag": "ABX9TyOLj10ehQfcuH2J+7ajKD4i",
      "include_colab_link": true
    },
    "kernelspec": {
      "name": "python3",
      "display_name": "Python 3"
    },
    "language_info": {
      "name": "python"
    }
  },
  "cells": [
    {
      "cell_type": "markdown",
      "metadata": {
        "id": "view-in-github",
        "colab_type": "text"
      },
      "source": [
        "<a href=\"https://colab.research.google.com/github/FadzliMaula/Kuliah/blob/main/GSLC1-Soal1.ipynb\" target=\"_parent\"><img src=\"https://colab.research.google.com/assets/colab-badge.svg\" alt=\"Open In Colab\"/></a>"
      ]
    },
    {
      "cell_type": "markdown",
      "source": [
        "STEP 1"
      ],
      "metadata": {
        "id": "KZL5xHsr7e0e"
      }
    },
    {
      "cell_type": "code",
      "execution_count": null,
      "metadata": {
        "id": "uIF0pKq3qpBO",
        "colab": {
          "base_uri": "https://localhost:8080/"
        },
        "outputId": "02f3929a-bdbd-4248-8154-dd24ebe6c4a5"
      },
      "outputs": [
        {
          "output_type": "stream",
          "name": "stdout",
          "text": [
            "matrix diagonally dominant\n"
          ]
        }
      ],
      "source": [
        "import numpy as np\n",
        "a = [[8,3,-3],[-2,-8,5],[3,5,10]]\n",
        "\n",
        "# Find diagonal coefficient\n",
        "diag = np.diag(np.abs(a))\n",
        "\n",
        "# find row sum without diagonal\n",
        "off_diag = np.sum(np.abs(a),axis=1)-diag\n",
        "\n",
        "if np.all(diag>off_diag):\n",
        "    print('matrix diagonally dominant')\n",
        "else:\n",
        "    print('matrix not diagonally dominant')"
      ]
    },
    {
      "cell_type": "markdown",
      "source": [
        "STEP 2"
      ],
      "metadata": {
        "id": "5d7s68wU7kja"
      }
    },
    {
      "cell_type": "code",
      "source": [
        "x1 = 0\n",
        "x2 = 0\n",
        "x3 = 0\n",
        "epilson = 0.01\n",
        "converged = False\n",
        "\n",
        "x_old = np.array([x1,x2,x3])"
      ],
      "metadata": {
        "id": "kvU8PlfS7d0b"
      },
      "execution_count": null,
      "outputs": []
    },
    {
      "cell_type": "markdown",
      "source": [
        "STEP 3"
      ],
      "metadata": {
        "id": "ljiwjhso77jW"
      }
    },
    {
      "cell_type": "code",
      "source": [
        "print('iteration result')\n",
        "print('k,x1,x2,x3')\n",
        "for k in range(1, 50):\n",
        "    x1 = (14-3*x2+3*x3)/8\n",
        "    x2 = (5+2*x1-5*x3)/(-8)\n",
        "    x3 = (-8-3*x1-5*x2)/(10)\n",
        "    x = np.array([x1,x2,x3])\n",
        "    # check if it's smaller than the treshold\n",
        "    dx = np.sqrt(np.dot(x-x_old, x-x_old))\n",
        "    print('k,x1,x2,x3')\n",
        "    if dx < epilson:\n",
        "        converged = True\n",
        "        print('Converged!')\n",
        "        break\n",
        "\n",
        "    # assign the latest x value to the old value\n",
        "    x_old = x\n",
        "\n",
        "    if not converged:\n",
        "      print('Not converge, increase the # of the iteration')"
      ],
      "metadata": {
        "id": "JVoje7_H78t4",
        "colab": {
          "base_uri": "https://localhost:8080/"
        },
        "outputId": "99842643-dde4-40a6-8359-8c5880378880"
      },
      "execution_count": null,
      "outputs": [
        {
          "output_type": "stream",
          "name": "stdout",
          "text": [
            "iteration result\n",
            "k,x1,x2,x3\n",
            "k,x1,x2,x3\n",
            "Not converge, increase the # of the iteration\n",
            "k,x1,x2,x3\n",
            "Not converge, increase the # of the iteration\n",
            "k,x1,x2,x3\n",
            "Converged!\n"
          ]
        }
      ]
    }
  ]
}